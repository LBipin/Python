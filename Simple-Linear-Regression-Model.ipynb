{
 "cells": [
  {
   "cell_type": "code",
   "execution_count": 1,
   "id": "3b5ec415",
   "metadata": {},
   "outputs": [],
   "source": [
    "import pandas as pd"
   ]
  },
  {
   "cell_type": "code",
   "execution_count": 2,
   "id": "b6476f4a",
   "metadata": {},
   "outputs": [
    {
     "data": {
      "text/plain": [
       "(1460, 81)"
      ]
     },
     "execution_count": 2,
     "metadata": {},
     "output_type": "execute_result"
    }
   ],
   "source": [
    "df = pd.read_csv('train.csv') #read training set of data\n",
    "df.shape\n"
   ]
  },
  {
   "cell_type": "code",
   "execution_count": 3,
   "id": "e54549fa",
   "metadata": {},
   "outputs": [],
   "source": [
    "#y = df.SalePrice\n",
    "#X = df.iloc[:,:80] #select all rows and columns except last columns\n"
   ]
  },
  {
   "cell_type": "code",
   "execution_count": 4,
   "id": "4c713ad3",
   "metadata": {},
   "outputs": [
    {
     "data": {
      "text/plain": [
       "Index(['Id', 'MSSubClass', 'MSZoning', 'LotFrontage', 'LotArea', 'Street',\n",
       "       'Alley', 'LotShape', 'LandContour', 'Utilities', 'LotConfig',\n",
       "       'LandSlope', 'Neighborhood', 'Condition1', 'Condition2', 'BldgType',\n",
       "       'HouseStyle', 'OverallQual', 'OverallCond', 'YearBuilt', 'YearRemodAdd',\n",
       "       'RoofStyle', 'RoofMatl', 'Exterior1st', 'Exterior2nd', 'MasVnrType',\n",
       "       'MasVnrArea', 'ExterQual', 'ExterCond', 'Foundation', 'BsmtQual',\n",
       "       'BsmtCond', 'BsmtExposure', 'BsmtFinType1', 'BsmtFinSF1',\n",
       "       'BsmtFinType2', 'BsmtFinSF2', 'BsmtUnfSF', 'TotalBsmtSF', 'Heating',\n",
       "       'HeatingQC', 'CentralAir', 'Electrical', '1stFlrSF', '2ndFlrSF',\n",
       "       'LowQualFinSF', 'GrLivArea', 'BsmtFullBath', 'BsmtHalfBath', 'FullBath',\n",
       "       'HalfBath', 'BedroomAbvGr', 'KitchenAbvGr', 'KitchenQual',\n",
       "       'TotRmsAbvGrd', 'Functional', 'Fireplaces', 'FireplaceQu', 'GarageType',\n",
       "       'GarageYrBlt', 'GarageFinish', 'GarageCars', 'GarageArea', 'GarageQual',\n",
       "       'GarageCond', 'PavedDrive', 'WoodDeckSF', 'OpenPorchSF',\n",
       "       'EnclosedPorch', '3SsnPorch', 'ScreenPorch', 'PoolArea', 'PoolQC',\n",
       "       'Fence', 'MiscFeature', 'MiscVal', 'MoSold', 'YrSold', 'SaleType',\n",
       "       'SaleCondition', 'SalePrice'],\n",
       "      dtype='object')"
      ]
     },
     "execution_count": 4,
     "metadata": {},
     "output_type": "execute_result"
    }
   ],
   "source": [
    "df.columns #see list of column index "
   ]
  },
  {
   "cell_type": "code",
   "execution_count": 5,
   "id": "e2ca93f5",
   "metadata": {},
   "outputs": [],
   "source": [
    "#make simple model for ML \n",
    "#set target variable\n",
    "y = df.SalePrice\n",
    "my_features = ['LotArea', 'YearBuilt', '1stFlrSF', '2ndFlrSF', 'FullBath', 'BedroomAbvGr', 'TotRmsAbvGrd'] #for simplicity few features\n",
    "X = df[my_features]"
   ]
  },
  {
   "cell_type": "code",
   "execution_count": 6,
   "id": "dc4045d6",
   "metadata": {},
   "outputs": [],
   "source": [
    "#now use decision tree model\n",
    "# from sklearn.tree import DecisionTreeRegressor\n",
    "# my_model = DecisionTreeRegressor(random_state=101)\n",
    "# my_model.fit(X,y)"
   ]
  },
  {
   "cell_type": "code",
   "execution_count": 7,
   "id": "fe90a726",
   "metadata": {},
   "outputs": [],
   "source": [
    "# prediction = my_model.predict(X)\n",
    "# print(my_model.predict(X.head())) "
   ]
  },
  {
   "cell_type": "code",
   "execution_count": 8,
   "id": "fcf01ce7",
   "metadata": {},
   "outputs": [],
   "source": [
    "#split the data and validate the model\n",
    "from sklearn.model_selection import train_test_split\n",
    "X_train, X_val, y_train, y_val = train_test_split(X,y, random_state=101)\n"
   ]
  },
  {
   "cell_type": "code",
   "execution_count": 9,
   "id": "faf3f4b0",
   "metadata": {},
   "outputs": [
    {
     "data": {
      "text/plain": [
       "DecisionTreeRegressor(random_state=101)"
      ]
     },
     "execution_count": 9,
     "metadata": {},
     "output_type": "execute_result"
    }
   ],
   "source": [
    "from sklearn.tree import DecisionTreeRegressor\n",
    "my_model = DecisionTreeRegressor(random_state=101)\n",
    "my_model.fit(X_train, y_train)"
   ]
  },
  {
   "cell_type": "code",
   "execution_count": 10,
   "id": "a3b6c3d9",
   "metadata": {},
   "outputs": [
    {
     "name": "stdout",
     "output_type": "stream",
     "text": [
      "[237000. 107000. 124000. 325000. 305900.]\n"
     ]
    }
   ],
   "source": [
    "prediction = my_model.predict(X_val)\n",
    "print(my_model.predict(X_val.head()))"
   ]
  },
  {
   "cell_type": "markdown",
   "id": "114a86e9",
   "metadata": {},
   "source": [
    "Calculate Mean Absolute Error in validation Data"
   ]
  },
  {
   "cell_type": "code",
   "execution_count": 11,
   "id": "6865ed1d",
   "metadata": {},
   "outputs": [
    {
     "name": "stdout",
     "output_type": "stream",
     "text": [
      "28039.646575342467\n"
     ]
    }
   ],
   "source": [
    "from sklearn.metrics import mean_absolute_error\n",
    "mae = mean_absolute_error(y_val, prediction)\n",
    "print(mae)"
   ]
  },
  {
   "cell_type": "code",
   "execution_count": 12,
   "id": "81588a9f",
   "metadata": {},
   "outputs": [],
   "source": [
    "# mae is large need to improve using max_leaf_nodes"
   ]
  },
  {
   "cell_type": "code",
   "execution_count": 13,
   "id": "1e34361d",
   "metadata": {},
   "outputs": [],
   "source": [
    "# Now define get_mae function which utilizes max_leaf_nodes\n",
    "def get_mae(X_train, y_train, X_val, y_val, max_leaf_nodes):\n",
    "    new_model = DecisionTreeRegressor(max_leaf_nodes=max_leaf_nodes, random_state=101)\n",
    "    new_model.fit(X_train, y_train)\n",
    "    new_prediction = new_model.predict(X_val)\n",
    "    new_mae = mean_absolute_error(y_val, new_prediction)\n",
    "    return new_mae\n",
    "    "
   ]
  },
  {
   "cell_type": "code",
   "execution_count": 14,
   "id": "f9998a0d",
   "metadata": {},
   "outputs": [
    {
     "name": "stdout",
     "output_type": "stream",
     "text": [
      "max leaf nodes:  5 \t\t Mean Absolute Error: 38731 \n",
      "max leaf nodes:  50 \t\t Mean Absolute Error: 27260 \n",
      "max leaf nodes:  100 \t\t Mean Absolute Error: 26833 \n",
      "max leaf nodes:  250 \t\t Mean Absolute Error: 27456 \n",
      "max leaf nodes:  500 \t\t Mean Absolute Error: 28441 \n"
     ]
    }
   ],
   "source": [
    "#\n",
    "k = [5, 50, 100, 250, 500]\n",
    "for max_leaf_nodes in k:\n",
    "    updated_mae = get_mae(X_train, y_train, X_val, y_val, max_leaf_nodes)\n",
    "    print(\"max leaf nodes:  %d \\t\\t Mean Absolute Error: %d \" %(max_leaf_nodes, updated_mae))"
   ]
  },
  {
   "cell_type": "markdown",
   "id": "11f4123c",
   "metadata": {},
   "source": [
    "# Now use RandomForest to improve"
   ]
  },
  {
   "cell_type": "code",
   "execution_count": 21,
   "id": "b8de9d63",
   "metadata": {},
   "outputs": [],
   "source": [
    "from sklearn.ensemble import RandomForestRegressor"
   ]
  },
  {
   "cell_type": "code",
   "execution_count": 22,
   "id": "196b9f6d",
   "metadata": {},
   "outputs": [
    {
     "name": "stdout",
     "output_type": "stream",
     "text": [
      "Mean Absolute Error from random forest model: 23044 \t\t\n"
     ]
    }
   ],
   "source": [
    "forest_model = RandomForestRegressor(random_state=0)\n",
    "forest_model.fit(X_train, y_train)\n",
    "forest_pre = forest_model.predict(X_val)\n",
    "forest_mae = mean_absolute_error(y_val, forest_pre)\n",
    "print('Mean Absolute Error from random forest model: %d \\t\\t'%(forest_mae))"
   ]
  },
  {
   "cell_type": "code",
   "execution_count": 25,
   "id": "8b0a95ce",
   "metadata": {},
   "outputs": [],
   "source": [
    "def fm_get(X_train, y_train, X_val, y_val, n_estimators):\n",
    "    f_model = RandomForestRegressor(n_estimators=n_estimators, random_state=102)\n",
    "    f_model.fit(X_train, y_train)\n",
    "    f_prediction = f_model.predict(X_val)\n",
    "    f_mae = mean_absolute_error(y_val, f_prediction)\n",
    "    return f_mae\n",
    "    "
   ]
  },
  {
   "cell_type": "code",
   "execution_count": 28,
   "id": "0d39ea96",
   "metadata": {},
   "outputs": [
    {
     "name": "stdout",
     "output_type": "stream",
     "text": [
      "n_estimators 10 \t\t Meand absolute error 22678\n",
      "n_estimators 20 \t\t Meand absolute error 22658\n",
      "n_estimators 50 \t\t Meand absolute error 22885\n",
      "n_estimators 100 \t\t Meand absolute error 22749\n",
      "n_estimators 200 \t\t Meand absolute error 22894\n",
      "n_estimators 400 \t\t Meand absolute error 22902\n"
     ]
    }
   ],
   "source": [
    "candidate_n_estimators = [10, 20, 50, 100, 200, 400]\n",
    "for n_estimators in candidate_n_estimators:\n",
    "    f_mae = fm_get(X_train, y_train, X_val, y_val, n_estimators)\n",
    "    print ('n_estimators %d \\t\\t Meand absolute error %d' %(n_estimators, f_mae))"
   ]
  },
  {
   "cell_type": "code",
   "execution_count": null,
   "id": "c6bd0880",
   "metadata": {},
   "outputs": [],
   "source": []
  },
  {
   "cell_type": "code",
   "execution_count": null,
   "id": "6b0bc902",
   "metadata": {},
   "outputs": [],
   "source": []
  },
  {
   "cell_type": "code",
   "execution_count": null,
   "id": "50832b34",
   "metadata": {},
   "outputs": [],
   "source": []
  },
  {
   "cell_type": "code",
   "execution_count": null,
   "id": "223568a2",
   "metadata": {},
   "outputs": [],
   "source": []
  }
 ],
 "metadata": {
  "kernelspec": {
   "display_name": "Python 3 (ipykernel)",
   "language": "python",
   "name": "python3"
  },
  "language_info": {
   "codemirror_mode": {
    "name": "ipython",
    "version": 3
   },
   "file_extension": ".py",
   "mimetype": "text/x-python",
   "name": "python",
   "nbconvert_exporter": "python",
   "pygments_lexer": "ipython3",
   "version": "3.9.7"
  }
 },
 "nbformat": 4,
 "nbformat_minor": 5
}
